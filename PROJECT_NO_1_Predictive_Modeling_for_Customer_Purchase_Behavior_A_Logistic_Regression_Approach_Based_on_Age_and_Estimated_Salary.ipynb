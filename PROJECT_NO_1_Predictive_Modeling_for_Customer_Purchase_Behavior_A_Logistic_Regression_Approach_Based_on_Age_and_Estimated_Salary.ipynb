{
  "nbformat": 4,
  "nbformat_minor": 0,
  "metadata": {
    "colab": {
      "provenance": [],
      "authorship_tag": "ABX9TyMvYNvQwlUtO28GQBjEe98x",
      "include_colab_link": true
    },
    "kernelspec": {
      "name": "python3",
      "display_name": "Python 3"
    },
    "language_info": {
      "name": "python"
    }
  },
  "cells": [
    {
      "cell_type": "markdown",
      "metadata": {
        "id": "view-in-github",
        "colab_type": "text"
      },
      "source": [
        "<a href=\"https://colab.research.google.com/github/SelvaS7/Assignments/blob/main/PROJECT_NO_1_Predictive_Modeling_for_Customer_Purchase_Behavior_A_Logistic_Regression_Approach_Based_on_Age_and_Estimated_Salary.ipynb\" target=\"_parent\"><img src=\"https://colab.research.google.com/assets/colab-badge.svg\" alt=\"Open In Colab\"/></a>"
      ]
    },
    {
      "cell_type": "code",
      "source": [
        "# STEP 1: Mount Google Drive\n",
        "from google.colab import drive\n",
        "drive.mount('/content/drive')\n",
        "\n",
        "# STEP 2: Import Required Libraries\n",
        "import pandas as pd\n",
        "import numpy as np\n",
        "import matplotlib.pyplot as plt\n",
        "import seaborn as sns\n",
        "\n",
        "from sklearn.model_selection import train_test_split\n",
        "from sklearn.preprocessing import StandardScaler\n",
        "from sklearn.linear_model import LogisticRegression\n",
        "from sklearn.metrics import (\n",
        "    accuracy_score, confusion_matrix,\n",
        "    precision_score, recall_score, f1_score, classification_report\n",
        ")\n",
        "\n",
        "import joblib  # For saving model\n",
        "\n",
        "# STEP 3: Load Dataset from Google Drive\n",
        "data_path = '/content/drive/My Drive/PROJECT NO 1/data/Social_Network_Ads.csv'\n",
        "data = pd.read_csv(data_path)\n",
        "\n",
        "# Optional: Quick view of dataset\n",
        "print(\"Dataset Preview:\")\n",
        "print(data.head())\n",
        "\n",
        "# STEP 4: Feature Selection (Assuming correct column names)\n",
        "# If your CSV has different column names, update accordingly.\n",
        "X = data[['Age', 'EstimatedSalary']]\n",
        "y = data['Purchased']\n",
        "\n",
        "# STEP 5: Data Scaling\n",
        "scaler = StandardScaler()\n",
        "X_scaled = scaler.fit_transform(X)\n",
        "\n",
        "# STEP 6: Train-Test Split\n",
        "X_train, X_test, y_train, y_test = train_test_split(\n",
        "    X_scaled, y, test_size=0.25, random_state=42\n",
        ")\n",
        "\n",
        "# STEP 7: Train Logistic Regression Model\n",
        "model = LogisticRegression()\n",
        "model.fit(X_train, y_train)\n",
        "\n",
        "# STEP 8: Predictions\n",
        "y_pred = model.predict(X_test)\n",
        "\n",
        "# STEP 9: Evaluation\n",
        "accuracy = accuracy_score(y_test, y_pred)\n",
        "precision = precision_score(y_test, y_pred)\n",
        "recall = recall_score(y_test, y_pred)\n",
        "f1 = f1_score(y_test, y_pred)\n",
        "\n",
        "print(\"\\nEvaluation Metrics:\")\n",
        "print(f\"Accuracy : {accuracy:.4f}\")\n",
        "print(f\"Precision: {precision:.4f}\")\n",
        "print(f\"Recall   : {recall:.4f}\")\n",
        "print(f\"F1 Score : {f1:.4f}\")\n",
        "\n",
        "# Classification report\n",
        "report = classification_report(y_test, y_pred)\n",
        "print(\"\\nClassification Report:\\n\", report)\n",
        "\n",
        "# STEP 10: Confusion Matrix Plot\n",
        "cm = confusion_matrix(y_test, y_pred)\n",
        "plt.figure(figsize=(6, 4))\n",
        "sns.heatmap(cm, annot=True, fmt='d', cmap='Blues')\n",
        "plt.title(\"Confusion Matrix\")\n",
        "plt.xlabel(\"Predicted\")\n",
        "plt.ylabel(\"Actual\")\n",
        "\n",
        "# Save confusion matrix to results folder\n",
        "plt.savefig('/content/drive/My Drive/PROJECT NO 1/results/confusion_matrix.png')\n",
        "plt.show()\n",
        "\n",
        "# STEP 11: Save Evaluation Metrics Report\n",
        "with open('/content/drive/My Drive/PROJECT NO 1/results/evaluation_metrics.txt', 'w') as f:\n",
        "    f.write(\"Model: Logistic Regression\\n\\n\")\n",
        "    f.write(f\"Accuracy : {accuracy:.4f}\\n\")\n",
        "    f.write(f\"Precision: {precision:.4f}\\n\")\n",
        "    f.write(f\"Recall   : {recall:.4f}\\n\")\n",
        "    f.write(f\"F1 Score : {f1:.4f}\\n\\n\")\n",
        "    f.write(\"Full Classification Report:\\n\")\n",
        "    f.write(report)\n",
        "\n",
        "# STEP 12: Save Trained Model\n",
        "joblib.dump(model, '/content/drive/My Drive/PROJECT NO 1/models/logistic_model.pkl')\n",
        "\n",
        "print(\"\\n✅ All files saved to your Drive successfully!\")\n"
      ],
      "metadata": {
        "colab": {
          "base_uri": "https://localhost:8080/",
          "height": 879
        },
        "id": "txwkBYkvf_mB",
        "outputId": "26900b89-080d-487c-bc5d-661cf737a758"
      },
      "execution_count": 10,
      "outputs": [
        {
          "output_type": "stream",
          "name": "stdout",
          "text": [
            "Drive already mounted at /content/drive; to attempt to forcibly remount, call drive.mount(\"/content/drive\", force_remount=True).\n",
            "Dataset Preview:\n",
            "   Age  EstimatedSalary  Purchased\n",
            "0   19            19000          0\n",
            "1   35            20000          0\n",
            "2   26            43000          0\n",
            "3   27            57000          0\n",
            "4   19            76000          0\n",
            "\n",
            "Evaluation Metrics:\n",
            "Accuracy : 0.8600\n",
            "Precision: 0.9259\n",
            "Recall   : 0.6757\n",
            "F1 Score : 0.7812\n",
            "\n",
            "Classification Report:\n",
            "               precision    recall  f1-score   support\n",
            "\n",
            "           0       0.84      0.97      0.90        63\n",
            "           1       0.93      0.68      0.78        37\n",
            "\n",
            "    accuracy                           0.86       100\n",
            "   macro avg       0.88      0.82      0.84       100\n",
            "weighted avg       0.87      0.86      0.85       100\n",
            "\n"
          ]
        },
        {
          "output_type": "display_data",
          "data": {
            "text/plain": [
              "<Figure size 600x400 with 2 Axes>"
            ],
            "image/png": "[encoded data removed]"
          },
          "metadata": {}
        },
        {
          "output_type": "stream",
          "name": "stdout",
          "text": [
            "\n",
            "✅ All files saved to your Drive successfully!\n"
          ]
        }
      ]
    }
  ]
}